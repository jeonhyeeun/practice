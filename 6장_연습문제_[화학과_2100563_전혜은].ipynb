{
  "nbformat": 4,
  "nbformat_minor": 0,
  "metadata": {
    "colab": {
      "name": "6장 연습문제 [화학과 2100563 전혜은]",
      "provenance": [],
      "authorship_tag": "ABX9TyNHiUzFZI7SaF1Yki06aDnq",
      "include_colab_link": true
    },
    "kernelspec": {
      "name": "python3",
      "display_name": "Python 3"
    },
    "language_info": {
      "name": "python"
    }
  },
  "cells": [
    {
      "cell_type": "markdown",
      "metadata": {
        "id": "view-in-github",
        "colab_type": "text"
      },
      "source": [
        "<a href=\"https://colab.research.google.com/github/jeonhyeeun/practice/blob/main/6%EC%9E%A5_%EC%97%B0%EC%8A%B5%EB%AC%B8%EC%A0%9C_%5B%ED%99%94%ED%95%99%EA%B3%BC_2100563_%EC%A0%84%ED%98%9C%EC%9D%80%5D.ipynb\" target=\"_parent\"><img src=\"https://colab.research.google.com/assets/colab-badge.svg\" alt=\"Open In Colab\"/></a>"
      ]
    },
    {
      "cell_type": "markdown",
      "metadata": {
        "id": "Uxnx5t7I4O4G"
      },
      "source": [
        "(1) 2부터 100사이의 모든 짝수를 출력하는 반복 루프 작성한다."
      ]
    },
    {
      "cell_type": "code",
      "metadata": {
        "id": "F04Gxfbc4OOu"
      },
      "source": [
        "for i in range(1, 101):\n",
        "  if (i%2 == 0):\n",
        "    print(i, end= \" \")"
      ],
      "execution_count": null,
      "outputs": []
    },
    {
      "cell_type": "markdown",
      "metadata": {
        "id": "d8akdSw94Vso"
      },
      "source": [
        "(2) 어떤 사람이 복리이자율 7%로 1000만원을 저금했을 경우에 2000만원이 되는데 몇 년이 걸리는지 계산하기 위하여 다음과 코드를 작성하였다. 잘못된 점은 없는지 체크해보자."
      ]
    },
    {
      "cell_type": "code",
      "metadata": {
        "id": "uDayjnxz4V20"
      },
      "source": [
        "[예시]\n",
        "year = 0\n",
        "balance = 1000\n",
        "\n",
        "while balance >= 2000:\n",
        "  year = year + 1\n",
        "  interest = balance * 0.07\n",
        "  balance = balace + interest\n",
        "print(year, \"년이 걸립니다.\")"
      ],
      "execution_count": null,
      "outputs": []
    },
    {
      "cell_type": "code",
      "metadata": {
        "id": "tQIFZgpG-C84"
      },
      "source": [
        "while문에서 balance < 2000로 바꾼다."
      ],
      "execution_count": null,
      "outputs": []
    },
    {
      "cell_type": "markdown",
      "metadata": {
        "id": "-xdNMebK4V_O"
      },
      "source": [
        "(3) 다음 코드의 출력을 예상해보자. 각 단계에서 변수의 값을 예상해보자."
      ]
    },
    {
      "cell_type": "code",
      "metadata": {
        "id": "T7KFlYPp4WI7"
      },
      "source": [
        "[예시]\n",
        "n = 1234\n",
        "sum = 0\n",
        "while n > 0:\n",
        "  digit = n % 10\n",
        "  sum = sum + digit\n",
        "  n = n // 10\n",
        "print(sum)"
      ],
      "execution_count": null,
      "outputs": []
    },
    {
      "cell_type": "code",
      "metadata": {
        "id": "WS9bb6ho-N3h"
      },
      "source": [
        "각 자리 수의 합이 10 출력한다."
      ],
      "execution_count": null,
      "outputs": []
    },
    {
      "cell_type": "markdown",
      "metadata": {
        "id": "2YHzDMg84WQu"
      },
      "source": [
        "(4) 사용자에게 곱셈 퀴즈를 내고 답을 사용자로부터 받는 프로그램에서 사용자가 올바른 답을 입력할 때까지 반복하도록 수정해보자."
      ]
    },
    {
      "cell_type": "code",
      "metadata": {
        "id": "mTkh8_dn-TqB"
      },
      "source": [
        "import random\n",
        "\n",
        "a = random.randint(1,10)\n",
        "b = random.randint(1,10)\n",
        "com = a*b\n",
        "\n",
        "while Ture:\n",
        "  user = int(input(str(a) + \"*\" + str(b) + \"는\"))\n",
        "  if (user == com):\n",
        "    print(\"맞았습니다.\")\n",
        "    break"
      ],
      "execution_count": null,
      "outputs": []
    },
    {
      "cell_type": "markdown",
      "metadata": {
        "id": "erDKht2C4Wcv"
      },
      "source": [
        "(5) 사용자가 입력한 정수의 합을 계산하는 프로그램을 작성해보자. 사용자가 0을 입력하기 전까지 정수를 계속해서 읽도록 한다."
      ]
    },
    {
      "cell_type": "code",
      "metadata": {
        "id": "Dnw8-F7_-1e9"
      },
      "source": [
        "num = 0\n",
        "while Ture:\n",
        "  a = int(input(\"정수를 입력하시오 (종료:0) :\"))\n",
        "  if (a == 0):\n",
        "    print(\"합은\", num, \"입니다.\")\n",
        "    break\n",
        "\n",
        "  num += a"
      ],
      "execution_count": null,
      "outputs": []
    },
    {
      "cell_type": "markdown",
      "metadata": {
        "id": "bq06QRuA4W_J"
      },
      "source": [
        "(6) 난수 생성 함수를 사용하여서 2개의 주사위를 던졌을 때 나오는 수를 다음과 같이 출력하여 보자."
      ]
    },
    {
      "cell_type": "code",
      "metadata": {
        "id": "S6vIvYz54XIM"
      },
      "source": [
        "import random\n",
        "\n",
        "for i in range(3):\n",
        "  a = random.randint(1,6)\n",
        "  b = random.randint(1,6)\n",
        "\n",
        "  print(\"첫번째 주사위 = \", a, \"두번째 주사위 = \", b)"
      ],
      "execution_count": null,
      "outputs": []
    },
    {
      "cell_type": "markdown",
      "metadata": {
        "id": "vuJ3STEh4XOf"
      },
      "source": [
        "(7) 터틀 그래픽과 반복문을 사용하여 눈 모양을 그려보자."
      ]
    },
    {
      "cell_type": "code",
      "metadata": {
        "id": "xNhv4hwS4XWn"
      },
      "source": [
        "import turtle\n",
        "\n",
        "t= turtle.Turtle()\n",
        "t.shape(\"turtle\")\n",
        "\n",
        "t.left(30)\n",
        "for i in range(6):\n",
        "  t.forward(100)\n",
        "  t.forward(-30)\n",
        "  t.left(60)\n",
        "  t.forward(30)\n",
        "  t.forward(-30)\n",
        "  t.right(120)\n",
        "  t.forward(30)\n",
        "  t.forward(-30)\n",
        "  t.left(60)\n",
        "  t.forward(-70)\n",
        "  t.left(60)"
      ],
      "execution_count": null,
      "outputs": []
    },
    {
      "cell_type": "markdown",
      "metadata": {
        "id": "cg2FakbC4Xn5"
      },
      "source": [
        "(8) 우리는 이번 장에서 터틀 그래픽으로 별을 그려보았다, 이 코드를 응용하여서 다음과 같이 10개의 별을 그리는 프로그램을 작성하여라. 별들은 시작 각도가 약간씩 다르다."
      ]
    },
    {
      "cell_type": "code",
      "metadata": {
        "id": "hDEP3JQB4XwW"
      },
      "source": [
        "import turtle\n",
        "t = turtle.Turtle()\n",
        "for i in range(10):\n",
        "  t.forward(-100)\n",
        "  t.left(36)\n",
        "  t.forward(100)\n",
        "  t.left(36)\n",
        "  t.forward(-100)\n",
        "  t.left(36)\n",
        "  t.forward(100)\n",
        "  t.left(36)\n",
        "  t.forward(-100)\n",
        "  t.right(134)"
      ],
      "execution_count": null,
      "outputs": []
    },
    {
      "cell_type": "markdown",
      "metadata": {
        "id": "VvEmpttW4X3h"
      },
      "source": [
        "(9) 반복과 난수를 함께 사용하면 화면에 랜덤한 원을 그릴 수 있다. 화면에 10개의 랜덤한 원을 그리는 프로그램을 작성하라. 원의 중심과 반지름이 모두 난수이어야한다."
      ]
    },
    {
      "cell_type": "code",
      "metadata": {
        "id": "ylzinAxw4X-d"
      },
      "source": [
        "import random, turtle\n",
        "\n",
        "t = turtle.Turtle()\n",
        "for i in range(10):\n",
        "  a = random.randint(-200, 200)\n",
        "  b = random.randint(-200, 200)\n",
        "  radius = random.randint(1,100)\n",
        "\n",
        "  t.up()\n",
        "  t.goto(a,b)\n",
        "  t.down()\n",
        "  t.circle(radius)"
      ],
      "execution_count": null,
      "outputs": []
    },
    {
      "cell_type": "markdown",
      "metadata": {
        "id": "YrWPqjmU4YGO"
      },
      "source": [
        "(10) 다음과 같이 거북이를 왕복 달리기시키는 프로그램을 작성해보자."
      ]
    },
    {
      "cell_type": "code",
      "metadata": {
        "id": "7QkgtsoR4YNh"
      },
      "source": [
        "import turtle\n",
        "\n",
        "t = turtle.Turtle()\n",
        "for i in range(5):\n",
        "  t.forward(200)\n",
        "  t.left(90)\n",
        "  t.forward(-20)\n",
        "  t.right(90)\n",
        "  t.forward(-200)\n",
        "  t.left(90)\n",
        "  t.forward(-20)\n",
        "  t.right(90)"
      ],
      "execution_count": null,
      "outputs": []
    },
    {
      "cell_type": "markdown",
      "metadata": {
        "id": "lDNjNzSD4YYM"
      },
      "source": [
        "(11) 다음의 터틀 그래픽 프로그램을 분석해보자. 학습하지 않은 함수가 있다면 인터넷에서 조사하여 보자."
      ]
    },
    {
      "cell_type": "code",
      "metadata": {
        "id": "o5KsAk144Yft"
      },
      "source": [
        "[예시]\n",
        "import turtle\n",
        "t = turtle.Turtel()\n",
        "t.shape(\"turtle\")\n",
        "t.color('red', 'yellow')\n",
        "t.begin_fill()\n",
        "while True:\n",
        "  t.forward(200)\n",
        "  t.left(170)\n",
        "  if abs(t.pos)) < 1:\n",
        "    break\n",
        "t.end_fill()"
      ],
      "execution_count": null,
      "outputs": []
    },
    {
      "cell_type": "code",
      "metadata": {
        "id": "B-n5XRUIbSQp"
      },
      "source": [
        "import turtle\n",
        "t = turtle.Turtle()\n",
        "t.shape(\"turtle\")\n",
        "t.speed(10)\n",
        "t.color('red', 'yellow')\n",
        "t.begin_fill()\n",
        "while Ture:\n",
        "  t.forward(200)\n",
        "  t.left(170)\n",
        "  if abs(t.pos()) < 1:       #pos는 position이다, abs는 숫자의 절댓값 계산.\n",
        "t.end_fill()"
      ],
      "execution_count": null,
      "outputs": []
    },
    {
      "cell_type": "markdown",
      "metadata": {
        "id": "nczw0nZY4ZCO"
      },
      "source": [
        "(12) 터틀 그래픽과 반복을 사용하여 sin 그래프를 그려보자. 거북이를 sin값에 따라서 움직이면 된다."
      ]
    },
    {
      "cell_type": "code",
      "metadata": {
        "id": "9GIFxhAZ4ZLI"
      },
      "source": [
        "import turtle, math\n",
        "t = turtle.Turtle()\n",
        "\n",
        "for i in range(360):\n",
        "  sinx = math.sin(math.pi * i / 180.0)\n",
        "  print(sinx)\n",
        "  t.goto(i, sinx * 100)"
      ],
      "execution_count": null,
      "outputs": []
    }
  ]
}