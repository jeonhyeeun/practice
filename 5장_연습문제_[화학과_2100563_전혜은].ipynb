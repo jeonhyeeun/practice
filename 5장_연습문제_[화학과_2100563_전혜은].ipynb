{
  "nbformat": 4,
  "nbformat_minor": 0,
  "metadata": {
    "colab": {
      "name": "5장 연습문제 [화학과 2100563 전혜은]",
      "provenance": [],
      "authorship_tag": "ABX9TyNGZf+cNbuJEBcTs8RS7unG",
      "include_colab_link": true
    },
    "kernelspec": {
      "name": "python3",
      "display_name": "Python 3"
    },
    "language_info": {
      "name": "python"
    }
  },
  "cells": [
    {
      "cell_type": "markdown",
      "metadata": {
        "id": "view-in-github",
        "colab_type": "text"
      },
      "source": [
        "<a href=\"https://colab.research.google.com/github/jeonhyeeun/practice/blob/main/5%EC%9E%A5_%EC%97%B0%EC%8A%B5%EB%AC%B8%EC%A0%9C_%5B%ED%99%94%ED%95%99%EA%B3%BC_2100563_%EC%A0%84%ED%98%9C%EC%9D%80%5D.ipynb\" target=\"_parent\"><img src=\"https://colab.research.google.com/assets/colab-badge.svg\" alt=\"Open In Colab\"/></a>"
      ]
    },
    {
      "cell_type": "markdown",
      "metadata": {
        "id": "CKYQSEYhw_Cr"
      },
      "source": [
        "1) 다음 프로그램의 출력은 무엇인가?\n",
        "age = 20\n",
        "if age < 20:\n",
        "   pinrt('20살 미만')\n",
        "else:\n",
        "  print('20살 이상')"
      ]
    },
    {
      "cell_type": "code",
      "metadata": {
        "colab": {
          "base_uri": "https://localhost:8080/"
        },
        "id": "S-6x5QimriiF",
        "outputId": "86c2099f-3bd5-431e-d954-35371ebd4aee"
      },
      "source": [
        "age = 20 \n",
        "if age < 20: \n",
        "  pinrt('20살 미만') \n",
        "else:\n",
        "  print('20살 이상')"
      ],
      "execution_count": 1,
      "outputs": [
        {
          "output_type": "stream",
          "name": "stdout",
          "text": [
            "20살 이상\n"
          ]
        }
      ]
    },
    {
      "cell_type": "markdown",
      "metadata": {
        "id": "RJb5HZwFxAKL"
      },
      "source": [
        "2) 1번에서 age가 30이상이고 50이하인 것을 체크하려면 어떻게 해야 하는가?"
      ]
    },
    {
      "cell_type": "code",
      "metadata": {
        "id": "oCGbYp85xAVn"
      },
      "source": [
        "age = 20\n",
        "if age >= 30 and age <= 50:\n",
        "  print(\"30살 이상이고 50살 이하\")"
      ],
      "execution_count": null,
      "outputs": []
    },
    {
      "cell_type": "markdown",
      "metadata": {
        "id": "OpuWnPdKxAjz"
      },
      "source": [
        "3) 사용자에게 현재 온도를 질문하고 온도가 25도 이상이면 반바지를 추천하고 25도 미만이면 긴바지를 추천하는 프로그램을 작성해보자."
      ]
    },
    {
      "cell_type": "code",
      "metadata": {
        "id": "X49MDrBrxAvX"
      },
      "source": [
        "tmep = int(input(\"현재 온도를 입력하시오: \"))\n",
        "\n",
        "if temp >= 25:\n",
        "  print(\"반비지를 입으세요\")\n",
        "else:\n",
        "  print(\"긴바지를 입으세요\")"
      ],
      "execution_count": null,
      "outputs": []
    },
    {
      "cell_type": "markdown",
      "metadata": {
        "id": "RRXM9uR7xA6B"
      },
      "source": [
        "4) 학생의 시험 점수를 물어보고 시험 점수가 90점 이상이면 A, 80점 이상이면 B, 70점 이상이면 C, 60점 이상이면 D, 그외의 점수는 F를 학점으로 주는 프로그램을 작성하라."
      ]
    },
    {
      "cell_type": "code",
      "metadata": {
        "id": "PSbUA9XMxBDP"
      },
      "source": [
        "score = int(input(\"성적을 입력하시오: \"))\n",
        "\n",
        "if score >= 90:\n",
        "  print(\"A학점입니다.\")\n",
        "elif score >= 80:\n",
        "  print(\"B학점입니다\")\n",
        "elif score >= 80:\n",
        "  print(\"C학점입니다\")\n",
        "  elif score >= 80:\n",
        "  print(\"D학점입니다\")\n",
        "elif :\n",
        "  print(\"F학점입니다\")"
      ],
      "execution_count": null,
      "outputs": []
    },
    {
      "cell_type": "markdown",
      "metadata": {
        "id": "DnBGhFOexBLL"
      },
      "source": [
        "5) 난수를 사용하여 1부터 100 사이의 숫자를 사용하는 뺄셈 문제를 생성하고 사용자에게 물어본 후에 사용자의 답변이 올바른지 검사하는 프로그램을 작성하라."
      ]
    },
    {
      "cell_type": "code",
      "metadata": {
        "id": "5VSmEDyKxBSy"
      },
      "source": [
        "import random\n",
        "x = random.randint(1, 100)\n",
        "y = random.randint(1, 100)\n",
        "\n",
        "ans = int(input(str(X) + \"-\" + str(y) + \"=\"))\n",
        "\n",
        "if ans x - y :\n",
        "  print(\"맞았습니다,\")\n",
        "else :\n",
        "  print(\"틀렸습니다\")"
      ],
      "execution_count": null,
      "outputs": []
    },
    {
      "cell_type": "markdown",
      "metadata": {
        "id": "l_Eu5J5CxBZP"
      },
      "source": [
        "6) 사용자로부터 정수를 받아서 이 정수가 2와 3으로 나누어 떨어질 수 있는지를 출력하라."
      ]
    },
    {
      "cell_type": "code",
      "metadata": {
        "id": "tLXGSxaaxBfg"
      },
      "source": [
        "n = int(input(\"정수를 입력하시오: \"))\n",
        "\n",
        "if n%2==0 and n%3==0:\n",
        "  print(\"2와 3으로 나누어 떨어집니다.\")\n",
        "else :\n",
        "  print(\"2와 3으로 나누어 떨어지지 않습니다.\")"
      ],
      "execution_count": null,
      "outputs": []
    },
    {
      "cell_type": "markdown",
      "metadata": {
        "id": "qpV2uuJgxBls"
      },
      "source": [
        "7) 2자리 숫자로 이루어진 복권이 있다. 사용자가 가지고 있는 복권 번호가 2자리 모두 일치하면 100만원을 받는다, 2자리 중에서 하나만 일치하면 50만원을 받는다. 하나도 일치하지 않으면 상금은 없다. 복권 당첨 번호는 난수로 생성하고 사용자의 입력에 따라 상금이 얼마인지 출력하는 프로그램을 작성하라."
      ]
    },
    {
      "cell_type": "code",
      "metadata": {
        "id": "L4OGMorRxBrx"
      },
      "source": [
        "import random\n",
        "\n",
        "solution = random.randint(0, 99)\n",
        "\n",
        "user = int(input(\"복권 번호를 입력하시오(0에서 99사이): \"))\n",
        "\n",
        "digit1 = solution // 10\n",
        "digit2 = solution % 10\n",
        "\n",
        "u_digit1 = user // 10\n",
        "u_digit2 = user % 10\n",
        "\n",
        "print(\"당첨번호는\", solution, \"입니다.\")\n",
        "\n",
        "if (digit1 == u_digit1 and u_digit2 == u_digit2):\n",
        "  print(\"상금은 100만원입니다.\")\n",
        "elif (digit1 == u_digit1\n",
        "      or digit1 == u_digit2\n",
        "      or digit2 == u_digit1\n",
        "      or digit2 == u_digit2):\n",
        "  print(\"상금은 50만원입니다.\")\n",
        "else:\n",
        "  print(\"상금은 없습니다.\")"
      ],
      "execution_count": null,
      "outputs": []
    },
    {
      "cell_type": "markdown",
      "metadata": {
        "id": "131dmMJXxBxM"
      },
      "source": [
        "8) 사용자로부터 2개의 원에 대한 정보를 받아서 화면에 원을 그린 후에 조건문을 사용하여 큰 원안에 작은 원이 포함되는지를 판단하는 프로그램을 작성하라."
      ]
    },
    {
      "cell_type": "code",
      "metadata": {
        "id": "OyEJ4t4ZxB3x"
      },
      "source": [
        "from turtle import *\n",
        "shape(\"turtle\")\n",
        "\n",
        "x1 = int(input(\"큰 원의 중심좌표 x1: \"))\n",
        "y1 = int(input(\"큰 원의 중심좌표 y1: \"))\n",
        "r1 = int(input(\"큰 원의 반지름 r1: \"))\n",
        "x2 = int(input(\"작은 원의 중심좌표 x2: \"))\n",
        "y2 = int(input(\"작은 원의 중심좌표 y2: \"))\n",
        "r2 = int(input(\"작은 원의 반지름 r2: \"))\n",
        "\n",
        "penup()\n",
        "goto(x1, y1)\n",
        "pendown()\n",
        "circle(r1)\n",
        "\n",
        "penup()\n",
        "goto(x2, y2)\n",
        "pendown()\n",
        "circle(r2)\n",
        "\n",
        "dist = ((x1 - x2)) * (x1 - x2) + (y1 - y2) * (y1 - y2)) **0.5\n",
        "if dist <= r1 - r2:\n",
        "  write(\"두번째 원이 첫번째 원의 내부에 있습니다.\")\n",
        "elif dist <= r1 + r2:\n",
        "  write(\"두번째 원이 첫번째 원과 겹칩니다.\")\n",
        "else:\n",
        "  write(\"두번째 원이 첫번째 원과 겹치지 않습니다.\")\n",
        "exitonclick()"
      ],
      "execution_count": null,
      "outputs": []
    }
  ]
}