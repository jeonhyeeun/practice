{
  "nbformat": 4,
  "nbformat_minor": 0,
  "metadata": {
    "colab": {
      "name": "10장 연습문제 [화학과 2100563 전혜은]",
      "provenance": [],
      "authorship_tag": "ABX9TyNw4d8IjLfp8r3PcvF/MiYx",
      "include_colab_link": true
    },
    "kernelspec": {
      "name": "python3",
      "display_name": "Python 3"
    },
    "language_info": {
      "name": "python"
    }
  },
  "cells": [
    {
      "cell_type": "markdown",
      "metadata": {
        "id": "view-in-github",
        "colab_type": "text"
      },
      "source": [
        "<a href=\"https://colab.research.google.com/github/jeonhyeeun/practice/blob/main/10%EC%9E%A5_%EC%97%B0%EC%8A%B5%EB%AC%B8%EC%A0%9C_%5B%ED%99%94%ED%95%99%EA%B3%BC_2100563_%EC%A0%84%ED%98%9C%EC%9D%80%5D.ipynb\" target=\"_parent\"><img src=\"https://colab.research.google.com/assets/colab-badge.svg\" alt=\"Open In Colab\"/></a>"
      ]
    },
    {
      "cell_type": "markdown",
      "source": [
        "1) 다음과 같이 하나의 레이블과 2개의 버튼을 가지는 프로그램을 작성해보자."
      ],
      "metadata": {
        "id": "IkRhmwbq65dN"
      }
    },
    {
      "cell_type": "code",
      "source": [
        "from tkinter import *\n",
        "\n",
        "window = Tk()\n",
        "\n",
        "program = Label(window, text=\"간단한 GUI 프로그램!\")\n",
        "program.pack()\n",
        "\n",
        "firstButton = Button(window, text=\"환영합니다.\")\n",
        "lastButton = Button(window, text=\"종료\")\n",
        "\n",
        "firstButton.pack()\n",
        "lastButton.pack()\n",
        "\n",
        "windomw.mailloop()"
      ],
      "metadata": {
        "id": "9Cu0_6x72toc"
      },
      "execution_count": null,
      "outputs": []
    },
    {
      "cell_type": "markdown",
      "source": [
        "2) 숫자를 입력하고 \"더하기\" 버튼을 누르면 한계에 더해지고 \"빼기\" 버튼을 누르면 합계에서 배지는 계산기를 작성해본다."
      ],
      "metadata": {
        "id": "5r-ruXN565pj"
      }
    },
    {
      "cell_type": "code",
      "source": [
        "def puls():\n",
        "  global total\n",
        "  total += int(e.get())\n",
        "  display()\n",
        "\n",
        "def minus():\n",
        "  global total\n",
        "  totla -= int(e.get())\n",
        "  display()\n",
        "\n",
        "def reset():\n",
        "  global total\n",
        "  total = 100\n",
        "  display()\n",
        "\n",
        "def display():\n",
        "  global total\n",
        "  secondLabel.destroy()\n",
        "  secondLabel = Label(window, text=total)\n",
        "  secondLabel.grid(row=0, column=1)\n",
        "\n",
        "from tkinter import *\n",
        "\n",
        "total = 100\n",
        "\n",
        "window = Tk()\n",
        "\n",
        "firstLabel = Label(window, text=\"현재 합계: \")\n",
        "secondLabel = Label(window, text=total)\n",
        "\n",
        "firstLabel.grid(row=0, column)\n",
        "secondLabel.grid(row=0, column=1)\n",
        "\n",
        "e = Entry(window)\n",
        "e.grid(row=1, column=0, columnspan=3)\n",
        "\n",
        "pulsBtn = Button(window, text=\"더하기(+)\", command=plus)\n",
        "minusBtn = Button(window, text=\"빼기(-)\", command=minus)\n",
        "resetBtn = Button(window, text=\"초기화\", command=reset)\n",
        "\n",
        "window.mainloop()"
      ],
      "metadata": {
        "id": "N6iceSqN4qkV"
      },
      "execution_count": null,
      "outputs": []
    },
    {
      "cell_type": "markdown",
      "source": [
        "3) 우리가 앞에서 텍스트 버전으로 제작하였던 숫자 맞추기 게임을 그래픽 사용자 인터페이스 버전으로 작성해보자."
      ],
      "metadata": {
        "id": "Nrup84M-650x"
      }
    },
    {
      "cell_type": "code",
      "source": [
        "from tkinter import *\n",
        "import random\n",
        "\n",
        "window = Tk()\n",
        "num = 0\n",
        "betNum = random.randint(1,100)\n",
        "\n",
        "def run():\n",
        "  global num\n",
        "  global betNum\n",
        "\n",
        "  num = int(e.get())\n",
        "  if num < betNum:\n",
        "    firstLabel['text'] = \"너무 낮아요!!\"\n",
        "  elif num > betNum:\n",
        "    firstLabel['text'] = \"너무 높아요!!\"\n",
        "  else:\n",
        "    firstLabel['text'] = \"정답입니다!\"\n",
        "\n",
        "def reset():\n",
        "  global num\n",
        "  global betNum\n",
        "\n",
        "  e.delate(0,END)\n",
        "  secondLabel.config(text=\"\")\n",
        "  betNum = random.randint(1,100)\n",
        "  num = 0\n",
        "\n",
        "firstLabel = Label(window, text=\"1에서 100사이의 수를 입력하세요.\")\n",
        "secondLabel = Label(window, )\n",
        "thridLabel = Label(window, )\n",
        "\n",
        "firstLabel.grid(row=1, column=0, columnspan=2)\n",
        "secondLabel.grid(row=2, column=0, columnspan=2)\n",
        "thridLabel.grid(row=4, column=0, columnspan=2)\n",
        "\n",
        "e = Entry(window)\n",
        "e.grid(row=3, column=0, columnspan=2)\n",
        "\n",
        "firstButton = Button(window, text=\"숫자를 입력\", command = run)\n",
        "lastButton = Button(window, text=\"게임을 다시 실행\", command = reset)\n",
        "\n",
        "firstButton.grid(row=5, column=0)\n",
        "lastButton.grid(row=5, column=1)\n",
        "\n",
        "window.mainloop()"
      ],
      "metadata": {
        "id": "Ivojr1fI7g63"
      },
      "execution_count": null,
      "outputs": []
    },
    {
      "cell_type": "markdown",
      "source": [
        "4) 인치를 센티미터로 변환하는 다음과 같은 프로그램을 작성해보자."
      ],
      "metadata": {
        "id": "VJJ8q-KX66AW"
      }
    },
    {
      "cell_type": "code",
      "source": [
        "def changedInch():\n",
        "  inch = int(e.get())\n",
        "  centi = inch * 2.54               # 인치를 센치로 바꾼다.\n",
        "  forthLabel.configure(text = str(centi)+ \"센티미터\")\n",
        "\n",
        "from tkinter import *\n",
        "\n",
        "window = Tk()\n",
        "\n",
        "firstLabel = Label(window, text = \"인치를 센티미터로 변환하는 프로그램: \")\n",
        "firstLabel.grid(row=0, column=0, columnspan=2)\n",
        "\n",
        "secondLabel = Label(window, text = \"인치를 입력하시오: \")\n",
        "secondLabel.grid(row=1, column=0)\n",
        "\n",
        "e = Entry()\n",
        "e.grid(row=1, column=1)\n",
        "\n",
        "thridLabel = Label(window, text = \"변환결과: \")\n",
        "thridLabel.grid(row=2, column=0)\n",
        "\n",
        "forthLabel = Label(window, text = \"0 센티미터\")\n",
        "\n",
        "forthLabel.grid(row=3, column=1)\n",
        "\n",
        "changeBtn = Button(window, text = \"변환!\", command=changedInch)\n",
        "changeBtn.grid(row=3, column=1)\n",
        "\n",
        "window.mainloop()"
      ],
      "metadata": {
        "id": "5YfsV59M-Aim"
      },
      "execution_count": null,
      "outputs": []
    },
    {
      "cell_type": "markdown",
      "source": [
        "5) 데이터를 입력받을 때 사용할 수 있는 다음과 같은 애플리케이션을 작성해보자."
      ],
      "metadata": {
        "id": "ys0EP2Uq66LC"
      }
    },
    {
      "cell_type": "code",
      "source": [
        "from tkinter import *\n",
        "fields = \"이름\", \"작업\", \"국적\"\n",
        "\n",
        "def fetch(entries):                            \n",
        "  for entry in entries:\n",
        "    field = entry[0]\n",
        "    text = entry[1].get()\n",
        "    print('%s:, \"%s\"' %(field, text))\n",
        "\n",
        "def makeform(root, fields):\n",
        "  entries = []\n",
        "  for field in fields:\n",
        "    row = Frame(root)\n",
        "    lab = Label(row, width=15, text=field)\n",
        "    ent = Entry(row)\n",
        "    row.pack(side=TOP, fill=x)\n",
        "    lab.pack(side=RIGHT, expand=YES, fill=x)\n",
        "    entries.append((field, ent))\n",
        "  return entries\n",
        "\n",
        "root = TK()\n",
        "ents = makeform(root, fields)\n",
        "root.bind(\"<Return>\", (lambda event, e=ents: fetch(e)))\n",
        "b1 = Button(root, text=\"보여주기\", command=(lambda e=ents: fetch(e)))\n",
        "b1.pack(side=LEFT, padx=5, pady=5)\n",
        "b2 = Button(root, text=\"종료하기\", command=root.quit)\n",
        "b2.pack(side=LEFT, padx=5, pady=5)\n",
        "root.mainloop()"
      ],
      "metadata": {
        "id": "1YkABbwjA1_e"
      },
      "execution_count": null,
      "outputs": []
    },
    {
      "cell_type": "markdown",
      "source": [
        "6) 가위, 바위, 보 게임을 GUI 버전으로 작성해보자. 사용자의 선택은 왼쪽에 이미지로 표시한다. 컴퓨터의 선택은 오른쪽에 이미지로 표시한다. 사용자는 버튼을 눌러서 가위, 바위, 보 중에서 하나를 선택할 수 있다. 사용자의 선택이 끝나면 결과를 화면에 텍스트로 표시한다."
      ],
      "metadata": {
        "id": "VvX3MhZU66WR"
      }
    },
    {
      "cell_type": "code",
      "source": [
        "from random import *\n",
        "from tkinter import *\n",
        "\n",
        "def user choice rock():                      # 고르는 부분\n",
        "  user choice = \"바위\"\n",
        "  turn(user choice)\n",
        "  user image.configure(image = rock image)\n",
        "def user choice paper():\n",
        "  user choice = \"보\"\n",
        "  turn(user choice)\n",
        "  user image.configure(image = paper image)\n",
        "def user chocie scissors():\n",
        "  user chocie = \"가위\"\n",
        "  turn(user choice)\n",
        "  user image.comfigure(image = scissor image)\n",
        "\n",
        "\n",
        "def turn(user choice):                                     # 본게임\n",
        "  oppo = [\"바위\", \"보\", \"가위\"]\n",
        "  oppo choice = oppo[randint(0,2)]\n",
        "  if(oppo choice==\"바위\"):\n",
        "    oppo image.configure(image = rock image)\n",
        "    if(user choice==\"보\"):\n",
        "      turn result.configure(text=\"사용자 승!\", fg=\"green\")\n",
        "      compare.configure(text=\">>>>>\")\n",
        "    elif(user choice==\"가위\"):\n",
        "      turn result.configure(text=\"컴퓨터 승!\", fg=\"red\")\n",
        "      compare.configure(text=\"<<<<<\")\n",
        "    else:\n",
        "      turn result.configure(text=\"무승부\", fg=\"gray\")\n",
        "      compare.configure(text=\"=====\")\n",
        "\n",
        "  elif(oppo choice==\"보\"):\n",
        "    oppo image.configure(image = paper image)\n",
        "    if(user choice==\"가위\"):\n",
        "      turn result.configure(text=\"사용자 승!\", fg=\"green\")\n",
        "      compare.configure(text=\">>>>>\")\n",
        "    elif(user choice==\"바위\"):\n",
        "      turn result.configure(text=\"컴퓨터 승!\", fg=\"red\")\n",
        "      compare.configure(text=\"<<<<<\")\n",
        "    else:\n",
        "      turn result.configure(text=\"무승부\", fg=\"gray\")\n",
        "      compare.configure(text=\"=====\")\n",
        "\n",
        "  elif(oppo choice==\"가위\"):\n",
        "    oppo image.configure(image = scissors image):\n",
        "    if(user choice==\"주먹\"):\n",
        "      turn result.configure(text=\"사용자 승!\", fg=\"green\")\n",
        "      compare.configure(text=\">>>>>\")\n",
        "    elif(user choice==\"보\"):\n",
        "      turn result.configure(text=\"컴퓨터 승!\", fg=\"red\")\n",
        "      compare.configure(text=\"<<<<<\")\n",
        "    else:\n",
        "      turn result.configure(text=\"무승부\", fg=\"gray\")\n",
        "      compare.configure(text=\"=====\")\n",
        "\n",
        "main_window = Tk()                                                                                                                                                  # 메인 프로그램\n",
        "rock button = Button(main window, width=20, text=\"바위\", justfiy=CENTER, command=user choice rock, activebackground=\"black\", activeforeground=\"white\")\n",
        "paper button = Button(main window, width=20, text=\"보\", justfiy=CENTER, command=user choice paper, activebackground=\"black\", activeforeground=\"white\")\n",
        "scissor button = Button(main window, width=20, text=\"가위\", justfiy=CENTER, command=user choice scissors, activebackground=\"black\", activeforeground=\"white\")\n",
        "rock image = PhotoImage(fill=\"d:/rock.gif\")\n",
        "paper image = PhotoImage(fill=\"d:/paper.gif\")\n",
        "scissor image = PhotoImage(fill=\"d:/scissor.gif\")\n",
        "user image = Label(text=\"사용자\", image = rock image)\n",
        "user image.image = rock image\n",
        "compare = Label(main window, justify=CENTER, font=(\"Helbetica\", 30))\n",
        "oppo image = Label(text=\"컴퓨터\", image = paper image)\n",
        "oppo image.image = paper image\n",
        "turn result = Label(main window, width=20, justify=CENTER, font=(\"Helbetica\", 20))\n",
        "\n",
        "\n",
        "rock button.grid(row=5, column=1)              # 그리드 생성\n",
        "paper button.grid(row=5, column=2)\n",
        "scissor button.grid(row=5, column=3)\n",
        "user image.grid(row=3, column=1)\n",
        "compare.grid(row=3, column=2)\n",
        "oppo image.grid(row=3, column=3)\n",
        "turn result.grid(row=4, column=2)\n",
        "\n",
        "main_window.mainloop()"
      ],
      "metadata": {
        "id": "3R_bC66HDUXz"
      },
      "execution_count": null,
      "outputs": []
    }
  ]
}