{
  "nbformat": 4,
  "nbformat_minor": 0,
  "metadata": {
    "colab": {
      "name": "9장 연습문제 [화학과 2100563 전혜은]",
      "provenance": [],
      "collapsed_sections": [],
      "authorship_tag": "ABX9TyMzBEyz6OimHSO7979CL6dm",
      "include_colab_link": true
    },
    "kernelspec": {
      "name": "python3",
      "display_name": "Python 3"
    },
    "language_info": {
      "name": "python"
    }
  },
  "cells": [
    {
      "cell_type": "markdown",
      "metadata": {
        "id": "view-in-github",
        "colab_type": "text"
      },
      "source": [
        "<a href=\"https://colab.research.google.com/github/jeonhyeeun/practice/blob/main/9%EC%9E%A5_%EC%97%B0%EC%8A%B5%EB%AC%B8%EC%A0%9C_%5B%ED%99%94%ED%95%99%EA%B3%BC_2100563_%EC%A0%84%ED%98%9C%EC%9D%80%5D.ipynb\" target=\"_parent\"><img src=\"https://colab.research.google.com/assets/colab-badge.svg\" alt=\"Open In Colab\"/></a>"
      ]
    },
    {
      "cell_type": "markdown",
      "source": [
        "1) 사용자로부터 5개의 숫자를 읽어서 리스트에 저장하고 숫자들의 평균을 계산하여 출력하는 프로그램을 작성해보자."
      ],
      "metadata": {
        "id": "_Wf4EA44a0cR"
      }
    },
    {
      "cell_type": "code",
      "source": [
        "list = []\n",
        "sum = 0\n",
        "for i in range(5):\n",
        "  i = int(input(\"정수를 입력해주세요 : \"))\n",
        "  list.append(i)\n",
        "  sum += i\n",
        "\n",
        "avg = sum/len(list)\n",
        "print(avg)"
      ],
      "metadata": {
        "id": "xiqtzuTWa08C"
      },
      "execution_count": null,
      "outputs": []
    },
    {
      "cell_type": "markdown",
      "source": [
        "2) 주사위를 던져서 나오는 값들의 빈도를 계산하는 프로그램을 작성해보자. 즉 1, 2, 3, 4, 5, 6의 값이 각각 몇 번이나 나오는지를 계산한다. 난수 발생 함수와 리스트롤 사용해보자."
      ],
      "metadata": {
        "id": "ELZ_-dBOa0ih"
      }
    },
    {
      "cell_type": "code",
      "source": [
        "[예시]\n",
        "counters = [0, 0, 0, 0, 0, 0,]\n",
        "value = random.randint(0, 5)\n",
        "counters[value] = counters[value] + 1"
      ],
      "metadata": {
        "id": "ooDlI7U5cPh2"
      },
      "execution_count": null,
      "outputs": []
    },
    {
      "cell_type": "code",
      "source": [
        "import random\n",
        "counters = [0, 0, 0, 0, 0, 0]\n",
        "\n",
        "for i range(1000):\n",
        "  value = random.randint(0, 5)\n",
        "  countes[value] = counters[value] +1\n",
        "\n",
        "for i in range(6):\n",
        "  print(\"주사위가\", i+1, \"인 경우는 :\", counters[i], \"번\")"
      ],
      "metadata": {
        "id": "M9crAy00bi_W"
      },
      "execution_count": null,
      "outputs": []
    },
    {
      "cell_type": "markdown",
      "source": [
        "3) 딕셔너리를 사용하여 친구들의 이름과 전화번호를 저장해보자. 사용자로부터 친구들의 이름과 전화번호를 입력받고 딕셔너리에 저장한다. 이름을 입력하지 않고 엔터키를 치면 검색모드가 나온다. 검색모드에서는 친구들의 이름으로 전화번호를 검색할 수 있도록 한다."
      ],
      "metadata": {
        "id": "PJcS71nRa0qB"
      }
    },
    {
      "cell_type": "code",
      "source": [
        "[예시]\n",
        "conacts = { }\n",
        "\n",
        "while Ture :\n",
        "  name = input(\"(입력모드)이름을 입력하시오: \")\n",
        "  if not name:\n",
        "    break;\n",
        "  tel = input(\"전화번호를 입력하시오: \")\n",
        "  contacts[name] = tel"
      ],
      "metadata": {
        "id": "oZL7jLoJco5z"
      },
      "execution_count": null,
      "outputs": []
    },
    {
      "cell_type": "code",
      "source": [
        "conacts = {}\n",
        "\n",
        "while Ture :\n",
        "  name = input(\"(입력모드)이름을 입력하시오: \")\n",
        "  if not name:\n",
        "    break;\n",
        "  tel = input(\"전화번호를 입력하시오: \")\n",
        "  contacts[name] = tel\n",
        "\n",
        "while Ture :\n",
        "  name2 = input(\"(검색모드)이름을 입력하시오: \")\n",
        "  print(name2, \"의 전화번호는\", contacts[name2], \"입니다.\")\n",
        "  if not name:\n",
        "    break;"
      ],
      "metadata": {
        "id": "RhNyLKXYcEFs"
      },
      "execution_count": null,
      "outputs": []
    },
    {
      "cell_type": "markdown",
      "source": [
        "4) 색상을 리스트에 저장한다. 리스트에 저장된 색상을 하나씩 꺼내어 거북이의 색상으로 설정하면서 속이 채워진 사각형을 그리는 프로그램을 작성해보자."
      ],
      "metadata": {
        "id": "xiW1RN2Ra0zY"
      }
    },
    {
      "cell_type": "code",
      "source": [
        "import random\n",
        "import turtle\n",
        "\n",
        "t = turtle.Turtle()\n",
        "t.shape(\"turtle\")\n",
        "color = [\"yellow\", \"red\", \"purple\", \"blue\"]\n",
        "\n",
        "def draw_square(x, y, c)\n",
        "t.up()\n",
        "t.goto(x,y)\n",
        "t.down()\n",
        "t.color(c)\n",
        "t.begin_fill()\n",
        "\n",
        "for i in range(4):\n",
        "  t.forward(50)\n",
        "  t.left(90)\n",
        "t.end_fill()\n",
        "\n",
        "for c in color:\n",
        "  x = random.randint(-100,100)\n",
        "  y = random.randint(-100,100)\n",
        "  draw_square(x,y,c)"
      ],
      "metadata": {
        "id": "3dQHHlpbc7O6"
      },
      "execution_count": null,
      "outputs": []
    },
    {
      "cell_type": "markdown",
      "source": [
        "5) 색상을 리스트에 저장한다. 리스트에 저장된 색상을 하나씩 꺼내어 거북이의 색상으로 설정하면서 속이 채워진 다각형을 그리는 프로그램을 작성해보자."
      ],
      "metadata": {
        "id": "CSPTCuc-a1LJ"
      }
    },
    {
      "cell_type": "code",
      "source": [
        "import random\n",
        "import turlte\n",
        "\n",
        "t = turtle.Turtle()\n",
        "t.shape(\"turtle\")\n",
        "t.color = [\"red\", \"blue\", \"brown\", \"yellow\", \"green\", \"purple\"]\n",
        "t.length = 0\n",
        "t.sides = 0\n",
        "x = 0 ; y = 0\n",
        "\n",
        "def draw_shape(t, c, length, sides, x, y):\n",
        "  t.up()\n",
        "  t.goto(x,y)\n",
        "  t.down()\n",
        "  t.color(c)\n",
        "  t.begin_fill()\n",
        "  for i in range(sides):\n",
        "    t.forward(lenght)\n",
        "    t.left(360/sides)\n",
        "  t.end_fill()\n",
        "for c in color:\n",
        "  sides = random.randint(3, 8)\n",
        "  x = random.randint(-100, 100)\n",
        "  y = random.randint(-100, 100)\n",
        "  lenght = random.randint(10, 50)\n",
        "  draw_shape(t, c, lenght, sides, x, y)"
      ],
      "metadata": {
        "id": "aC33TnTqd4Tn"
      },
      "execution_count": null,
      "outputs": []
    },
    {
      "cell_type": "markdown",
      "source": [
        "6) 색상을 리스트에 저장한다. 리스트에 저장된 색생을 하나씩 꺼내어 거북이의 색상으로 설정하면서 속이 채워진 별을 랜덤한 위치에 그리는 프로그램을 작성해보자."
      ],
      "metadata": {
        "id": "XRsrtyDta1Tv"
      }
    },
    {
      "cell_type": "code",
      "source": [
        "import random\n",
        "import turtle\n",
        "\n",
        "t = turtle.Turlte()\n",
        "t.shape(\"turtle\")\n",
        "s = turtle.Screen(); s.begincolor(\"black\");\n",
        "color = [\"red\", \"blue\", \"brown\", \"yellow\", \" green\", \"purple\", \"white\"]\n",
        "t.length = 0\n",
        "t.sides = 0\n",
        "x = 0\n",
        "y = 0\n",
        "\n",
        "def draw_star(color, length, x, y):\n",
        "  t.up()\n",
        "  t.goto(x, y)\n",
        "  t.down()\n",
        "  t.color(c)\n",
        "  t.begin_fill()\n",
        "  for i in range(5):\n",
        "    t.forward(length)\n",
        "    t.left(144)\n",
        "  t.end_fill()\n",
        "\n",
        "for c in color:\n",
        "  x = random.randint(-100, 100)\n",
        "  y = random.randint(-100, 100)\n",
        "  t.length = random.randint(10, 50)\n",
        "  draw_star(color, length, x, y)"
      ],
      "metadata": {
        "id": "Tkaa3065guwU"
      },
      "execution_count": null,
      "outputs": []
    },
    {
      "cell_type": "markdown",
      "source": [
        "7) 인터넷 도메인의 약자와 해당되는 국가를 딕셔너리에 저장해보자. 예를 들어서 \"kr\"은 대한민국으로 저장되어야 한다. 딕셔너리를 순화하면서 모든 키와 값을 출력하는 프로그램을 작성해보자."
      ],
      "metadata": {
        "id": "rh38FcIAa1c9"
      }
    },
    {
      "cell_type": "code",
      "source": [
        "domains = { \"kr\": \"대한민국\", ...}\n",
        "\n",
        "for k, v in domains.items():\n",
        "  print(k, \": \", v)"
      ],
      "metadata": {
        "id": "pyzY1h8HdBlv"
      },
      "execution_count": null,
      "outputs": []
    },
    {
      "cell_type": "code",
      "source": [
        "domains = {\"kr\": \"대한민국\", \"us\": \"미국\", \"jp\": \"일본\", \"de\": \"독일\"}\n",
        "\n",
        "for k, v in domains.items():\n",
        "  print(k, \": \", v)"
      ],
      "metadata": {
        "id": "3dZoT2BAiB10"
      },
      "execution_count": null,
      "outputs": []
    },
    {
      "cell_type": "markdown",
      "source": [
        "8) 딕셔너리에 문제와 정답을 저장하고 하나씩 꺼내서 사용자에게 제시하는 프로그램을 작성해보자. 사용자는 문자열로 답해야한다. 번호로 답할 수는 없다."
      ],
      "metadata": {
        "id": "x4FXbWg-a1k6"
      }
    },
    {
      "cell_type": "code",
      "source": [
        "problems = { \"파이썬\": \"최근에 가장 떠오르는 프로그래밍 언어\", \n",
        "              \"변수\" : \"데이터를 저장하는 메모리 공간\",\n",
        "              \"함수\" : \"작업을 수행하는 문장들의 집합에 이름을 붙인 것\"\n",
        "            \"리스트\" : \"서로 관련이 없는 항목들의 모임\"}\n",
        "for word in problems.keys():"
      ],
      "metadata": {
        "id": "oP5-L3hzdPVz"
      },
      "execution_count": null,
      "outputs": []
    },
    {
      "cell_type": "code",
      "source": [
        "problems = { \"파이썬\": \"최근에 가장 떠오르는 프로그래밍 언어\", \n",
        "              \"변수\" : \"데이터를 저장하는 메모리 공간\",\n",
        "              \"함수\" : \"작업을 수행하는 문장들의 집합에 이름을 붙인 것\"\n",
        "            \"리스트\" : \"서로 관련이 없는 항목들의 모임\"\n",
        "            }\n",
        "\n",
        "def show_words(problems):\n",
        "  display_message = \"\"\n",
        "  i = 1\n",
        "  for ward in problems.keys():\n",
        "    display_message += \"(\"+str(i)+\")\"\n",
        "    display_message += word + \" \"\n",
        "    i+=1\n",
        "  print(display_message)\n",
        "\n",
        "for meaning in problems.valus():\n",
        "  print(\"다음은 어떤 단어에 대한 설명일까요?\")\n",
        "  print(\"\\\", \"\"+meaning+\"\\\"\")\n",
        "  correct = ralse\n",
        "  while not correct:\n",
        "    show_words(problems)\n",
        "    guessed_word = input(\"\")\n",
        "    if problems[guess word] == meaning:\n",
        "      print(\"정답입니다!\")\n",
        "      correct = Ture\n",
        "    else:\n",
        "      print(\"틀렸습니다.\")"
      ],
      "metadata": {
        "id": "3jeMsZBsi3ti"
      },
      "execution_count": null,
      "outputs": []
    }
  ]
}