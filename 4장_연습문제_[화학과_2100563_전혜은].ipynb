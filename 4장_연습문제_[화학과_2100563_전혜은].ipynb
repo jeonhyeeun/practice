{
  "nbformat": 4,
  "nbformat_minor": 0,
  "metadata": {
    "colab": {
      "name": "4장 연습문제 [화학과 2100563 전혜은]",
      "provenance": [],
      "authorship_tag": "ABX9TyO8Spxp6e+kceMYOykSVcKw",
      "include_colab_link": true
    },
    "kernelspec": {
      "name": "python3",
      "display_name": "Python 3"
    },
    "language_info": {
      "name": "python"
    }
  },
  "cells": [
    {
      "cell_type": "markdown",
      "metadata": {
        "id": "view-in-github",
        "colab_type": "text"
      },
      "source": [
        "<a href=\"https://colab.research.google.com/github/jeonhyeeun/practice/blob/main/4%EC%9E%A5_%EC%97%B0%EC%8A%B5%EB%AC%B8%EC%A0%9C_%5B%ED%99%94%ED%95%99%EA%B3%BC_2100563_%EC%A0%84%ED%98%9C%EC%9D%80%5D.ipynb\" target=\"_parent\"><img src=\"https://colab.research.google.com/assets/colab-badge.svg\" alt=\"Open In Colab\"/></a>"
      ]
    },
    {
      "cell_type": "markdown",
      "metadata": {
        "id": "UKE1OmL1gYnk"
      },
      "source": [
        "1) 왜 다음과 같은 수식이 오류를 발생시키는가? 올바르게 수정하라.\n",
        "'나는' + 12 + '개의 사과를 먹었다.'"
      ]
    },
    {
      "cell_type": "code",
      "metadata": {
        "id": "Uz-N9GlPgfyp"
      },
      "source": [
        "'나는' + str(12) + '개의 사과를 먹었다.'"
      ],
      "execution_count": null,
      "outputs": []
    },
    {
      "cell_type": "markdown",
      "metadata": {
        "id": "5FRCfcjogcwT"
      },
      "source": [
        "2) 다음과 같은 수식을 계산하면 결과는 무엇인가?\n",
        "(1) 'apple' + 'grape'\n",
        "(2) 'apple' * 3"
      ]
    },
    {
      "cell_type": "code",
      "metadata": {
        "id": "FaDwpUWfnXwE"
      },
      "source": [
        "(1) applegrape\n",
        "(2) appleappleapple"
      ],
      "execution_count": null,
      "outputs": []
    },
    {
      "cell_type": "markdown",
      "metadata": {
        "id": "9V5MVZR9gUlS"
      },
      "source": [
        "3) 다음과 같이 사용자가 입력한 문자열 중에서 처음 2 글자와 마지막 2 글자를 추출한 후에 이들을 합쳐서 출력해보자."
      ]
    },
    {
      "cell_type": "code",
      "metadata": {
        "id": "5k97vCMdgUwi"
      },
      "source": [
        "str = input(\"문자열을 입력하시오: \")\n",
        "s = str[0:2] + str[-2:]\n",
        "\n",
        "print(s)"
      ],
      "execution_count": null,
      "outputs": []
    },
    {
      "cell_type": "markdown",
      "metadata": {
        "id": "2D9p47LigU4h"
      },
      "source": [
        "4) 다음과 같이 사용자가 입력한 문자열에 뒤에 항상 \"하는 중\"를 붙이는 프로그램을 작성해보자."
      ]
    },
    {
      "cell_type": "code",
      "metadata": {
        "id": "qStHYcmrgVBS"
      },
      "source": [
        "s = input(\"문자열을 입력하시오: \")\n",
        "s += \"하는 중\"\n",
        "print(s)"
      ],
      "execution_count": null,
      "outputs": []
    },
    {
      "cell_type": "markdown",
      "metadata": {
        "id": "l_-lijF1gVI6"
      },
      "source": [
        "5) 사용자가 입력한 기호 안에 문자열을 삽입하려면 어떻게 해야 하는가? 기호는 문자 2개로 이루어져있다고 가정한다."
      ]
    },
    {
      "cell_type": "code",
      "metadata": {
        "id": "1zB-6NDFeaVm"
      },
      "source": [
        "str = input(\"기호를 입력하시오: \")\n",
        "word = input(\"중간에 삽입할 문자열을 입력하시오: \")\n",
        "s = str[:1] + word + str[1:]\n",
        "\n",
        "print(s)"
      ],
      "execution_count": null,
      "outputs": []
    },
    {
      "cell_type": "markdown",
      "metadata": {
        "id": "TCmw7PcwgW_W"
      },
      "source": [
        "6) 4개의 숫자가 들어 있는 리스트가 있다. 리스트 안의 숫자들을 꺼내서 합계를 계산하여 출력하는 프로그램을 작성하라. 반복문은 사용하지 않는다. 리스트의 길이는 항상 4라고 가정한다."
      ]
    },
    {
      "cell_type": "code",
      "metadata": {
        "id": "lElbuBylgXIc"
      },
      "source": [
        "lista = [1, 2, 3, 4]\n",
        "sum = 0\n",
        "sum = lista[0] + lista[1] + lista[2] + lista[3]\n",
        "print(\"리스트 = \", lista)\n",
        "print(\"리스트 숫자들의 합 = \", sum)"
      ],
      "execution_count": null,
      "outputs": []
    },
    {
      "cell_type": "markdown",
      "metadata": {
        "id": "kSw1M13BgXTD"
      },
      "source": [
        "7) 사용자가 입력하는 3가지 색상을 리스트에 저장하였다가 하나씩 꺼내서 그 색상으로 채워진 원을 그리는 프로그램을 작성해보자. 반복문은 사용하지 않는다. 채워진 원을 그리려면 다음과 같은 문장들을 사용한다.\n",
        "t.fillcolor(\"yellow\")\n",
        "t.begin_fill()\n",
        "t.circle(50)\n",
        "t.end_fill()"
      ]
    },
    {
      "cell_type": "code",
      "metadata": {
        "id": "v098HTZ5gXaK"
      },
      "source": [
        "from turtle import *\n",
        "shape(\"turtle\")\n",
        "\n",
        "lista = [ ]; color = input(\"색상 #1을 입력하시오: \")\n",
        "lista.append(color); color = input(\"색상 #2을 입력하시오: \")\n",
        "lista.append(color); color = input(\"색상 #2을 입력하시오: \")\n",
        "lista.append(color)\n",
        "\n",
        "fillcolor(lista[0]); begin_fill(); circle(50); end_fill()\n",
        "\n",
        "up(); goto(100, 0); down(); fillcolor(lista[1]); begin_fill(); circle(50); end_fill()\n",
        "\n",
        "up(); goto(200, 0); down(); fillcolor(lista[2]); begin_fill(); circle(50); end_fill()\n",
        "wirte(\"닫으려면 화면 클릭\"); exitonclick()"
      ],
      "execution_count": null,
      "outputs": []
    },
    {
      "cell_type": "markdown",
      "metadata": {
        "id": "qcP9--YNgXhz"
      },
      "source": [
        "8) 사용자가 입력하는 3개의 좌표(x, y)를 리스트에 저장한다. 이들 좌표를 꺼내서 거북이를 이동하는 프로그램을 작성해보자."
      ]
    },
    {
      "cell_type": "code",
      "metadata": {
        "id": "gz1b5eG0gXoj"
      },
      "source": [
        "import turtle\n",
        "t = turtle.Turtle()\n",
        "t.shape(\"turtle\")\n",
        "\n",
        "lista = [ ]\n",
        "lista.append(int(input(\"x1: \")))\n",
        "lista.append(int(input(\"y1: \")))\n",
        "lista.append(int(input(\"x2: \")))\n",
        "lista.append(int(input(\"y2: \")))\n",
        "lista.append(int(input(\"x3: \")))\n",
        "lista.append(int(input(\"y3: \")))\n",
        "\n",
        "t.goto(lista[0], lista[1])\n",
        "t.goto(lista[2], lista[3])\n",
        "t.goto(lista[4], lista[5])\n",
        "t._screen.exitonclick()"
      ],
      "execution_count": null,
      "outputs": []
    }
  ]
}