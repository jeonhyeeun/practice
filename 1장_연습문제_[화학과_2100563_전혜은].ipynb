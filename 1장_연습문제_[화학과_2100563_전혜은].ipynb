{
  "nbformat": 4,
  "nbformat_minor": 0,
  "metadata": {
    "colab": {
      "name": "1장 연습문제 _[화학과 2100563 전혜은]",
      "provenance": [],
      "authorship_tag": "ABX9TyNHKNG4WkDGQows4SLqR29j",
      "include_colab_link": true
    },
    "kernelspec": {
      "name": "python3",
      "display_name": "Python 3"
    },
    "language_info": {
      "name": "python"
    }
  },
  "cells": [
    {
      "cell_type": "markdown",
      "metadata": {
        "id": "view-in-github",
        "colab_type": "text"
      },
      "source": [
        "<a href=\"https://colab.research.google.com/github/jeonhyeeun/practice/blob/main/1%EC%9E%A5_%EC%97%B0%EC%8A%B5%EB%AC%B8%EC%A0%9C_%5B%ED%99%94%ED%95%99%EA%B3%BC_2100563_%EC%A0%84%ED%98%9C%EC%9D%80%5D.ipynb\" target=\"_parent\"><img src=\"https://colab.research.google.com/assets/colab-badge.svg\" alt=\"Open In Colab\"/></a>"
      ]
    },
    {
      "cell_type": "markdown",
      "metadata": {
        "id": "RZE56-QChhw5"
      },
      "source": [
        "1. \"환영합니다.\", \"파이썬의 세계에 오신 것을 환영합니다.\", \"파이썬은 강력합니다.\"를 화면에 출력하는 프로그램을 작성하시오.(스크립트 모드로 실행한다.)"
      ]
    },
    {
      "cell_type": "code",
      "metadata": {
        "colab": {
          "base_uri": "https://localhost:8080/"
        },
        "id": "tPE5VcaHh2_w",
        "outputId": "f952cc33-c952-4533-9aaa-8a677308c37c"
      },
      "source": [
        "print(\"환영합니다.\")\n",
        "print(\"파이썬의 세계에 오신 것을 환영합니다.\")\n",
        "print(\"파이썬은 강력합니다.\")"
      ],
      "execution_count": 1,
      "outputs": [
        {
          "output_type": "stream",
          "name": "stdout",
          "text": [
            "환영합니다.\n",
            "파이썬의 세계에 오신 것을 환영합니다.\n",
            "파이썬은 강력합니다.\n"
          ]
        }
      ]
    },
    {
      "cell_type": "markdown",
      "metadata": {
        "id": "Y5mne7OGmZzi"
      },
      "source": [
        "2. 다음 프로그램의 실행 결과를 쓰시오.\n",
        "\n",
        "print(\"반갑습니다. 파이썬!\")\n",
        "print(2*3/10)\n",
        "print(\"Hello\", \"World\", \"!!!\")"
      ]
    },
    {
      "cell_type": "code",
      "metadata": {
        "id": "JFyzOfVamu0X"
      },
      "source": [
        "반갑습니다. 파이썬!\n",
        "0.6\n",
        "Hello World !!!"
      ],
      "execution_count": null,
      "outputs": []
    },
    {
      "cell_type": "markdown",
      "metadata": {
        "id": "bjRQDacqnSkq"
      },
      "source": [
        "3. 파이썬 쉘을 사용하여서 한 주가 몇 시간에 해당하는지를 계산해보자."
      ]
    },
    {
      "cell_type": "code",
      "metadata": {
        "colab": {
          "base_uri": "https://localhost:8080/"
        },
        "id": "B4l0th1xno-d",
        "outputId": "c5e02092-a50e-4448-dd61-5eb5bbfec958"
      },
      "source": [
        "print(7*24)"
      ],
      "execution_count": 2,
      "outputs": [
        {
          "output_type": "stream",
          "name": "stdout",
          "text": [
            "168\n"
          ]
        }
      ]
    },
    {
      "cell_type": "markdown",
      "metadata": {
        "id": "eRBzlstRneXh"
      },
      "source": [
        "4. 터틀 그래픽에서 거북이를 이동시켜서 다음과 같은 그림을 그려보자. forward()와 right(), left() 함수만을 사용한다."
      ]
    },
    {
      "cell_type": "code",
      "metadata": {
        "id": "14yF-Pg4n1zG"
      },
      "source": [
        "import turtle\n",
        "t = turtle.Turtle()\n",
        "t.shape(\"turtle\");\n",
        "\n",
        "t.forward(100);\n",
        "t.left(90)\n",
        "t.forward(100);\n",
        "t.left(90)\n",
        "t.forward(100);\n",
        "t.left(90)\n",
        "t.forward(100);\n",
        "exitonclink()"
      ],
      "execution_count": null,
      "outputs": []
    },
    {
      "cell_type": "markdown",
      "metadata": {
        "id": "N7jjbx5nod8p"
      },
      "source": [
        "5. 터틀 그래픽에서 width() 함수를 호출하면 거북이가 그리는 선의 두께를 두껍게 한다. 거북이를 이동하여서 다음과 같이 두께가 10인 선을 그려보자."
      ]
    },
    {
      "cell_type": "code",
      "metadata": {
        "id": "8fUjXPh3ownL"
      },
      "source": [
        "import turtle\n",
        "t = turtle.Turtle()\n",
        "t.shape(\"turtle\")\n",
        "t.width(10)\n",
        "t.forward(100)\n",
        "t.left(90)\n",
        "t.forward(100)\n",
        "t._screen.exitonclink()"
      ],
      "execution_count": null,
      "outputs": []
    },
    {
      "cell_type": "markdown",
      "metadata": {
        "id": "1uW-OMrbpCC7"
      },
      "source": [
        "6. 터틀 그래픽에서 color() 함수를 호출하면 거북이가 그리는 선의 색상을 변경할 수 있다. 색상을 파랑색으로 변경하여서 다음과 같이 길이가 100픽셀인 선을 그려보자."
      ]
    },
    {
      "cell_type": "code",
      "metadata": {
        "id": "DhiYbMTBpS_A"
      },
      "source": [
        "import turtle\n",
        "t = turtle.Turtle()\n",
        "t.shape(\"turtle\")\n",
        "t.color(\"blue\")\n",
        "t.forward(100)\n",
        "t._screen.exitonclink()"
      ],
      "execution_count": null,
      "outputs": []
    },
    {
      "cell_type": "markdown",
      "metadata": {
        "id": "gyumd5Wmpb8T"
      },
      "source": [
        "7. 터틀 그래픽에서는 거북이의 모양을 삼각형, 원, 화살표, 사각형으로 변경할 수 있다. 다음과 같이 shape() 함수를 사용하면 된다. 사각형으로 변경하고 100픽셀 길이의 직선을 그려보자."
      ]
    },
    {
      "cell_type": "code",
      "metadata": {
        "id": "ijQ2sYpIpwc0"
      },
      "source": [
        "import turtle\n",
        "t = turtle.Turtle()\n",
        "t.shape(\"turtle\")\n",
        "t.shape(\"square\")\n",
        "t.forward(100)\n",
        "t._screen.exitonclink()"
      ],
      "execution_count": null,
      "outputs": []
    },
    {
      "cell_type": "markdown",
      "metadata": {
        "id": "JwXo1tElqmQF"
      },
      "source": [
        "8. 터틀 그래픽에서 거북이가 이동할 때 선이 그려지지 않게 하려면 t.up()하여 펜을 들 수 있다. 반대로 t.down()은 펜을 내려놓는 명령어이다. 거북이를 화면 좌표 (100, 200)으로 이동시키려면 t.goto(100, 200)을 호출한다. 이들 명령어를 조합하여 다음과 같은 그림을 그려보자."
      ]
    },
    {
      "cell_type": "code",
      "metadata": {
        "id": "6wtY1Qc0rAXV"
      },
      "source": [
        "import turtle\n",
        "t = turtle.Turtle()\n",
        "t.shape(\"turtle\")\n",
        "t.up()\n",
        "t.goto(0,0)\n",
        "t.down()\n",
        "t.forward(100);\n",
        "\n",
        "t.up()\n",
        "t.goto(0, 100)\n",
        "t.down()\n",
        "t.forward(100);\n",
        "t._screen.exitonclink()"
      ],
      "execution_count": null,
      "outputs": []
    },
    {
      "cell_type": "markdown",
      "metadata": {
        "id": "UnzFfHz5reRl"
      },
      "source": [
        "9. 터틀 그래픽에서 t.circle(100)이라고 입력하고 실행하면 화면에 반지름이 100인 원이 그려진다. 이들 명령어를 조합하여서 화면에 오륜기를 그리는 프로그램을 작성해보자."
      ]
    },
    {
      "cell_type": "code",
      "metadata": {
        "id": "QazHn9V9rdLc"
      },
      "source": [
        "from turtle import *\n",
        "shape(\"turtle\")\n",
        "up(); goto(-185, 10); down(); circle(90)\n",
        "up(); goto(-14, 10); down(); circle(90)\n",
        "up(); goto(158, 10); down(); circle(90)\n",
        "up(); goto(-98, -98); down(); circle(90)\n",
        "up(); goto(79, -98); down(); circle(90)\n",
        "exitonclick()"
      ],
      "execution_count": null,
      "outputs": []
    }
  ]
}