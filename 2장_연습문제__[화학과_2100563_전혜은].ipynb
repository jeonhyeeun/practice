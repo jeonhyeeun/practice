{
  "nbformat": 4,
  "nbformat_minor": 0,
  "metadata": {
    "colab": {
      "name": "2장 연습문제_ [화학과 2100563 전혜은]",
      "provenance": [],
      "authorship_tag": "ABX9TyMOj0VL5Pcq09bq7wGea//2",
      "include_colab_link": true
    },
    "kernelspec": {
      "name": "python3",
      "display_name": "Python 3"
    },
    "language_info": {
      "name": "python"
    }
  },
  "cells": [
    {
      "cell_type": "markdown",
      "metadata": {
        "id": "view-in-github",
        "colab_type": "text"
      },
      "source": [
        "<a href=\"https://colab.research.google.com/github/jeonhyeeun/practice/blob/main/2%EC%9E%A5_%EC%97%B0%EC%8A%B5%EB%AC%B8%EC%A0%9C__%5B%ED%99%94%ED%95%99%EA%B3%BC_2100563_%EC%A0%84%ED%98%9C%EC%9D%80%5D.ipynb\" target=\"_parent\"><img src=\"https://colab.research.google.com/assets/colab-badge.svg\" alt=\"Open In Colab\"/></a>"
      ]
    },
    {
      "cell_type": "markdown",
      "metadata": {
        "id": "RQwVUS43d_Fb"
      },
      "source": [
        "1. 사용자한테 이름과 나이를 입력하게 한다. 사용자가 100살이 되는 연도를 화면에 출력하는 프로그램을 작성하라."
      ]
    },
    {
      "cell_type": "code",
      "metadata": {
        "id": "M5GOGnisdYmR"
      },
      "source": [
        "name = input(\"이름을 입력하시오 : \")\n",
        "age = int(input(\"나이를 입력하시오: \"))\n",
        "year = 2021-age+100\n",
        "print(name + \"씨는\" + str(year) + \"년에 100살이시네요!\")"
      ],
      "execution_count": null,
      "outputs": []
    },
    {
      "cell_type": "markdown",
      "metadata": {
        "id": "vnTzVHRDe07U"
      },
      "source": [
        "2. 사용자로부터 3개의 숫자를 받아서 평균을 계산하고 결과를 출력하는 프로그램을 작성하라."
      ]
    },
    {
      "cell_type": "code",
      "metadata": {
        "id": "WQfDPgHJe9fu"
      },
      "source": [
        "n1 = int(input(\"첫 번째 숫자를 입력하시오: \"))\n",
        "n2 = int(input(\"두 번째 숫자를 입력하시오: \"))\n",
        "n3 = int(input(\"세 번째 숫자를 입력하시오: \"))\n",
        "\n",
        "average = (n1 + n2 + n3) / 3\n",
        "\n",
        "print(n1, n2, n3, \"의 평균은\", average, \"입니다.\")"
      ],
      "execution_count": null,
      "outputs": []
    },
    {
      "cell_type": "markdown",
      "metadata": {
        "id": "CZNCJE2he_e6"
      },
      "source": [
        "3. 사용자로부터 원의 반지름을 입력받아서 원의 면적을 계산하는 프로그램을 작성해보자."
      ]
    },
    {
      "cell_type": "code",
      "metadata": {
        "id": "PfspT92ufHbQ"
      },
      "source": [
        "radius = int(input(\"반지름을 입력하시오: \"))\n",
        "area = 3.141592 * radius * radius\n",
        "print(\"반지름이\", radius, \"인 원의 넓이 =\", area입니다.)"
      ],
      "execution_count": null,
      "outputs": []
    },
    {
      "cell_type": "markdown",
      "metadata": {
        "id": "pB1exDfrfHnm"
      },
      "source": [
        "4. 원의 반지름을 변수 radius에 저장한다. radius의 초기값은 50이다. radius 변수를 20씩 증가시면서(0,0), (100, 0), (200, 0) 좌표에 원을 3개 그려보자. 터틀 그래픽을 이용하고 반복문은 사용하지 않는다."
      ]
    },
    {
      "cell_type": "code",
      "metadata": {
        "id": "y69xB5zKfpLI"
      },
      "source": [
        "import turtle\n",
        "t = turtle.Turtle()\n",
        "t. shape(\"turtle\")\n",
        "\n",
        "radius = 50\n",
        "t.up()\n",
        "t.goto(0, 0)\n",
        "t.down()\n",
        "t.circle(radius)\n",
        "\n",
        "radius = radius + 20\n",
        "t.up()\n",
        "t.goto(200, 0)\n",
        "t.down()\n",
        "t.circle(radius)\n",
        "t._screen.exitonclick()"
      ],
      "execution_count": null,
      "outputs": []
    },
    {
      "cell_type": "markdown",
      "metadata": {
        "id": "ZnXR9ky-fpgV"
      },
      "source": [
        "5. 삼각형의 한 변의 길이를 side 변수로 나타낸다. side 변수의 초기값은 100이다. side 변수를 이용하여 화면에 삼각형을 그려보자."
      ]
    },
    {
      "cell_type": "code",
      "metadata": {
        "id": "qzQgQBS9f-nX"
      },
      "source": [
        "import turtle\n",
        "t = turtle.Turlte()\n",
        "t.shape(\"turtle\")\n",
        "\n",
        "side = 50\n",
        "t.forward(side)\n",
        "t.left(120)\n",
        "t.forward(side)\n",
        "t.left(120)\n",
        "t.forward(side)\n",
        "t.left(120)\n",
        "t._screen.exitonclick()"
      ],
      "execution_count": null,
      "outputs": []
    },
    {
      "cell_type": "markdown",
      "metadata": {
        "id": "tY2-ZD8nf-x1"
      },
      "source": [
        "6. 5번 문제에서 우리는 삼각형 한 변의 길이를 side 변수를 표시했었다. 만약 우리가 삼각형 한변의 길이를 200으로 변경한다고 하자. 5번 코드에서 어디만 수정하면 되는가?"
      ]
    },
    {
      "cell_type": "code",
      "metadata": {
        "id": "vfVXl3pZgPPE"
      },
      "source": [
        "import turtle\n",
        "t = turtle.Turlte()\n",
        "t.shape(\"turtle\")\n",
        "\n",
        "side = 200\n",
        "t.forward(side)\n",
        "t.left(120)\n",
        "t.forward(side)\n",
        "t.left(120)\n",
        "t.forward(side)\n",
        "t.left(120)\n",
        "t._screen.exitonclick()"
      ],
      "execution_count": null,
      "outputs": []
    },
    {
      "cell_type": "markdown",
      "metadata": {
        "id": "AF3ABq58gPjB"
      },
      "source": [
        "7. 다음과 같은 그림을 그리는 프로그램을 작성하시오. 이때 작은 사각형의 한 변의 길이는 side 변수에 저장하고 거북이가 회전하는 각도는 angle 변수에 저장한다."
      ]
    },
    {
      "cell_type": "code",
      "metadata": {
        "id": "P8j51aegjNn9"
      },
      "source": [
        "import turtle\n",
        "t = turtle.Turlte()\n",
        "t.shape(\"turtle\")\n",
        "side = 50\n",
        "angle = 90\n",
        "\n",
        "t.forward(side); t.right(angle); t.forward(side); t.right(angle); t.forward(side); t.right(angle); t.forward(side);\n",
        "\n",
        "t.forward(side); t.right(angle); t.forward(side); t.right(angle); t.forward(side);\n",
        "\n",
        "t.right(angle); t.forward(side); t.right(180)\n",
        "\n",
        "t.forward(side); t.right(angle); t.forward(side); t.right(angle); t.forward(side); t.right(angle); t.forward(side);\n",
        "\n",
        "t.forward(side); t.right(angle); t.forward(side); t.right(angle); t.forward(side);\n",
        "t.write(\"닫으려면 화면 클릭\"); t._screen.exitonclick()"
      ],
      "execution_count": null,
      "outputs": []
    }
  ]
}