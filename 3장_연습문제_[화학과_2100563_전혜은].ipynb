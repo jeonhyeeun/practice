{
  "nbformat": 4,
  "nbformat_minor": 0,
  "metadata": {
    "colab": {
      "name": "3장 연습문제 [화학과 2100563 전혜은]",
      "provenance": [],
      "authorship_tag": "ABX9TyOcBEdJlMbg9J4+mitG/LSU",
      "include_colab_link": true
    },
    "kernelspec": {
      "name": "python3",
      "display_name": "Python 3"
    },
    "language_info": {
      "name": "python"
    }
  },
  "cells": [
    {
      "cell_type": "markdown",
      "metadata": {
        "id": "view-in-github",
        "colab_type": "text"
      },
      "source": [
        "<a href=\"https://colab.research.google.com/github/jeonhyeeun/practice/blob/main/3%EC%9E%A5_%EC%97%B0%EC%8A%B5%EB%AC%B8%EC%A0%9C_%5B%ED%99%94%ED%95%99%EA%B3%BC_2100563_%EC%A0%84%ED%98%9C%EC%9D%80%5D.ipynb\" target=\"_parent\"><img src=\"https://colab.research.google.com/assets/colab-badge.svg\" alt=\"Open In Colab\"/></a>"
      ]
    },
    {
      "cell_type": "markdown",
      "metadata": {
        "id": "lduhyJ_gCu0a"
      },
      "source": [
        "1) 사용자로부터 두 개의 정수를 받아서 정수의 합, 정수의 차, 정수의 곱, 정수의 평균, 큰 수, 작은 수를 계산하여 화면에 출력하는 프로그램을 작성하라. 파이썬이 제공하는 내장 함수 max(x, y), min(x, y)을 사용해보자."
      ]
    },
    {
      "cell_type": "code",
      "metadata": {
        "id": "msWOw0BuAHZZ"
      },
      "source": [
        "x = int(input(\"x: \"))\n",
        "y = int(input(\"y: \"))\n",
        "\n",
        "print(\"두 수의 합: \", x + y)\n",
        "print(\"두 수의 차: \", x - y)\n",
        "print(\"두 수의 곱: \", x * y)\n",
        "print(\"두 수의 평균: \", (x + y)/2)\n",
        "print(\"큰 수: \", max(x, y))\n",
        "print(\"작은 수: \", min(x, y))"
      ],
      "execution_count": null,
      "outputs": []
    },
    {
      "cell_type": "markdown",
      "metadata": {
        "id": "QkwBHp9fC1Lx"
      },
      "source": [
        "2) 원기둥의 부피를 계산하는 프로그램을 작성해보자. 원기둥의 부피는 다음과 같이 계산한다."
      ]
    },
    {
      "cell_type": "code",
      "metadata": {
        "id": "XnoLbCUVC15p"
      },
      "source": [
        "r = float(input(\"r: \"))\n",
        "h = float(input(\"h: \"))\n",
        "\n",
        "vol = 3.141592 * r**2 * h\n",
        "print(\"원기둥의 부피: \", vol)"
      ],
      "execution_count": null,
      "outputs": []
    },
    {
      "cell_type": "markdown",
      "metadata": {
        "id": "hM0tWY88C2aU"
      },
      "source": [
        "3) 사용자로부터 정수를 받아서 정수의 자리수의 합을 계산하는 프로그램을 작성하여 보자. 예를 들어서 사용자가 1234를 입력했다면 1+2+3+4를 계산하면 된다. 나머지 연산자와 정수 나눗셈 연산자 //를 적극적으로 사용해보자."
      ]
    },
    {
      "cell_type": "code",
      "metadata": {
        "id": "FnkyB6tUC2o2"
      },
      "source": [
        "number = int(input(\"정수를 입력하시오: \"))\n",
        "\n",
        "sum = 0\n",
        "sum = sum + number % 10\n",
        "number = number // 10\n",
        "sum = sum + number % 10\n",
        "number = number // 10\n",
        "sum = sum + number % 10\n",
        "number = number // 10\n",
        "sum = sum + number % 10\n",
        "number = number // 10\n",
        "print(\"자리 수의 합: \", str(sum))"
      ],
      "execution_count": null,
      "outputs": []
    },
    {
      "cell_type": "markdown",
      "metadata": {
        "id": "GHvAD4xKC204"
      },
      "source": [
        "4) 사용자로부터 두 점의 좌표(x1, y1)과 (x2, y2)를 입력받아서 두 점 사이의 거리를 계산하는 프로그램을 작성해보자. 스크립트 모드로 작성하라. 거리는 다음 식으로 계산한다. "
      ]
    },
    {
      "cell_type": "code",
      "metadata": {
        "id": "agZ6H8yFC3IC"
      },
      "source": [
        "x1 = int(input(\"x1: \"))\n",
        "y1 = int(input(\"y1: \"))\n",
        "x2 = int(input(\"x2: \"))\n",
        "y2 = int(input(\"y2: \"))\n",
        "dist = ( (x2 - x1)**2 + (y2 - y1)**2 )**0.5\n",
        "print(\"두 점 사이의 거리 =\", dist)"
      ],
      "execution_count": null,
      "outputs": []
    },
    {
      "cell_type": "markdown",
      "metadata": {
        "id": "RmWbhsd1C3Tq"
      },
      "source": [
        "5) 1번 문제에서 계산한 거리가 맞는지, 터틀 그래픽으로 확인해보자. 거북이를 왼쪽으로 45도 회전하여 141만큼 전진시킨다. 다시 거북이를 (0, 0)으로 이동하고 0도를 가리키게 한 후 에 100만큼 전진하고 왼쪽으로 90도 회전하여 100만큼 전진한다. 화면에 그려진 직선이 일치 하는가?"
      ]
    },
    {
      "cell_type": "code",
      "metadata": {
        "id": "HcUsCttQC3cb"
      },
      "source": [
        "from math import *\n",
        "x1 = int(input(\"x1: \"))\n",
        "y1 = int(input(\"y1: \"))\n",
        "x2 = int(input(\"x2: \"))\n",
        "y2 = int(input(\"y2: \"))\n",
        "dist = sqrt( (x2 - x1)**2 + (y2 - y1)**2 )\n",
        "\n",
        "print(\"두 점 사이의 거리 =\", dist)\n",
        "\n",
        "from turtle import *\n",
        "shape(\"turtle\")\n",
        "\n",
        "left(45)\n",
        "forward(141)\n",
        "\n",
        "setheading(0)\n",
        "goto(0, 0)\n",
        "forward(100)\n",
        "left(90)\n",
        "forward(100)\n",
        "write(\"닫으려면 화면 클릭\")\n",
        "exitonclicik()"
      ],
      "execution_count": null,
      "outputs": []
    },
    {
      "cell_type": "markdown",
      "metadata": {
        "id": "ZHvFhG9EC3kF"
      },
      "source": [
        "6) 사용자로부터 두 점을 입력받아서 터틀 그래픽을 이용하여 두 점을 연결하는 직선을 그린다. 직선의 길이를 계산하여 출력해보자."
      ]
    },
    {
      "cell_type": "code",
      "metadata": {
        "id": "sN1HlLUZC3sO"
      },
      "source": [
        "from turtle import *\n",
        "shape(\"turtle\")\n",
        "\n",
        "x1 = int(input(\"x1: \")); y1 = int(input(\"y1: \"))\n",
        "x2 = int(input(\"x2: \")); y2 = int(input(\"y2: \"))\n",
        "dist = ((x1 - x2)**2 + (y1 - y2) **2) **0.5\n",
        "\n",
        "up(); goto(x1, y1); down(); goto(x2, y2)\n",
        "\n",
        "write(\"점의 길이 =\", str(dist))\n",
        "exitonclicik()"
      ],
      "execution_count": null,
      "outputs": []
    },
    {
      "cell_type": "markdown",
      "metadata": {
        "id": "fHLuEDm-C3yJ"
      },
      "source": [
        "7) 파이썬에서 time()을 호출하면 1970년 1월 1일 이후 흘러온 전체 초가 반호나 된다. 이것을 적절하게 나누거나 나머지를 구해서 현재 시간의 시와 분을 계산할 수 있을까?"
      ]
    },
    {
      "cell_type": "code",
      "metadata": {
        "id": "hKRCQMzRC35i"
      },
      "source": [
        "import time\n",
        "fseconds = time.time()\n",
        "total_sec = int(fseconds)\n",
        "total_min = total_sec // 60\n",
        "minute = total_min % 60\n",
        "total_hour = total_min // 60\n",
        "hour = total _hour % 24\n",
        "\n",
        "print(\"현재시간(영국 그리니치 시각): \" + str(hour) + \"시\" + str(minute) + \"분\")"
      ],
      "execution_count": null,
      "outputs": []
    },
    {
      "cell_type": "markdown",
      "metadata": {
        "id": "_n_5XWLBC7NN"
      },
      "source": [
        "8) 움직이는 물체의 운동에너지를 계산해보자. 물체의 에너지를 계산하는 식은 1/2* 무게 * 속도 * 2이다."
      ]
    },
    {
      "cell_type": "code",
      "metadata": {
        "id": "FaIKXbHGC7aV"
      },
      "source": [
        "mass = float(input(\"물체의 무게를 입력하시오(kg): \"))\n",
        "velocity = float(input(\"물체의 속도를 입력하시오(m/s): \"))\n",
        "\n",
        "energy = 0.5 * mass * velocity **2\n",
        "print(\"물체는\" + str(energy) + \"(J)의 에너지를 가지고 있다.\")"
      ],
      "execution_count": null,
      "outputs": []
    }
  ]
}