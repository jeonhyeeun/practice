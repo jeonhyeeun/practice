{
  "nbformat": 4,
  "nbformat_minor": 0,
  "metadata": {
    "colab": {
      "name": "7장 연습문제_[화학과 2100563 전혜은]",
      "provenance": [],
      "authorship_tag": "ABX9TyO/PzRrydCDfBMwJcRSmX27",
      "include_colab_link": true
    },
    "kernelspec": {
      "name": "python3",
      "display_name": "Python 3"
    },
    "language_info": {
      "name": "python"
    }
  },
  "cells": [
    {
      "cell_type": "markdown",
      "metadata": {
        "id": "view-in-github",
        "colab_type": "text"
      },
      "source": [
        "<a href=\"https://colab.research.google.com/github/jeonhyeeun/practice/blob/main/7%EC%9E%A5_%EC%97%B0%EC%8A%B5%EB%AC%B8%EC%A0%9C_%5B%ED%99%94%ED%95%99%EA%B3%BC_2100563_%EC%A0%84%ED%98%9C%EC%9D%80%5D.ipynb\" target=\"_parent\"><img src=\"https://colab.research.google.com/assets/colab-badge.svg\" alt=\"Open In Colab\"/></a>"
      ]
    },
    {
      "cell_type": "markdown",
      "metadata": {
        "id": "1HYujxMzQwqO"
      },
      "source": [
        "(1) 눈사람을 그리는 함수를 작성하고 이 함수를 여러 번 호출하여 랜덤한 위치에 눈사람을 그리는 프로그램을 작성하라. 아래 실행 결과와 최대한 비슷하게 작성해보자."
      ]
    },
    {
      "cell_type": "code",
      "metadata": {
        "id": "iKuijZWPSapZ"
      },
      "source": [
        "import turtle\n",
        "t = turtle.Turtle()\n",
        "t.shape(\"turtle\")\n",
        "s = turtle.Screen()\n",
        "s.becolor('skyblue')\n",
        "\n",
        "def draw_snowman(x, y):\n",
        "  t.up()                     # 1단\n",
        "  t.goto(x,y +110)\n",
        "  t.down()\n",
        "  t.begin_fill()\n",
        "  t.circle(30)\n",
        "  t.end_fill()\n",
        "\n",
        "  t.up()                     # 2단\n",
        "  t.goto(x,y +70)\n",
        "  t.down()\n",
        "  t.left(25)\n",
        "  t.forward(70)\n",
        "  t.forward(-70)\n",
        "  t.left(110)\n",
        "  t.forward(80)\n",
        "  t.forward(-80)\n",
        "  t.seth(0)                # 거북이가 특정 각도를 보게 회전\n",
        "  t.begin_fill()\n",
        "  t.circle(25)\n",
        "  t.end_fill()\n",
        "\n",
        "  t.up()                   # 3단\n",
        "  t.goto(x,y)\n",
        "  t.down()\n",
        "  t.begin_fill()\n",
        "  t.circle(40)\n",
        "  t.end_fill\n",
        "\n",
        "for i in range(3):\n",
        "  draw_snowman(200 * i -200,0)"
      ],
      "execution_count": null,
      "outputs": []
    },
    {
      "cell_type": "markdown",
      "metadata": {
        "id": "pPv_HkvhQ0il"
      },
      "source": [
        "(2) 6각형을 그리는 draw_hexa() 함수를 작성하고 이 함수를 호출하여서 다음과 같은 벌집 모양을 화면에 그려보자."
      ]
    },
    {
      "cell_type": "code",
      "metadata": {
        "id": "CU1EU0V3SaQG"
      },
      "source": [
        "[예시]\n",
        "def hexagon():\n",
        "  for i in range(6):\n",
        "    turtle.forward(100)\n",
        "    turtle.left(360/6)"
      ],
      "execution_count": null,
      "outputs": []
    },
    {
      "cell_type": "code",
      "metadata": {
        "id": "qHp4a3Twbi33"
      },
      "source": [
        "import turtle\n",
        "t = turtle.Turtle()\n",
        "t.shape(\"turtle\")\n",
        "\n",
        "def hexagon():\n",
        "  for i in range(6):\n",
        "    turtle.forward(100)\n",
        "    turtle.left(360/6)\n",
        "\n",
        "for i in range(6):\n",
        "  t.forward(50)\n",
        "  t.left(50)\n",
        "  draw_hexagon()"
      ],
      "execution_count": null,
      "outputs": []
    },
    {
      "cell_type": "markdown",
      "metadata": {
        "id": "JQR5iEguQ0rD"
      },
      "source": [
        "(3) 함수 f(x)=x^2+1을 계산하는 함수를 작성하고 이 함수를 이용하여 화면에 f(x) 그래프를 그려보자."
      ]
    },
    {
      "cell_type": "code",
      "metadata": {
        "id": "0EcDTa-FSbOS"
      },
      "source": [
        "import turtle\n",
        "t = turtle.Turtle()\n",
        "t.shape(\"turtle\")\n",
        "\n",
        "def function():\n",
        "  for i in range(150):\n",
        "    t.goto(i,(i**2+!)*0.01)\n",
        "\n",
        "t.forward(300); t.forward(-300)\n",
        "t.left(90)\n",
        "t.forward(300); t.forward(-300)\n",
        "t.right(90)\n",
        "function()"
      ],
      "execution_count": null,
      "outputs": []
    },
    {
      "cell_type": "markdown",
      "metadata": {
        "id": "4jmhuyvWQ0xN"
      },
      "source": [
        "(4) 터틀 그래픽에서 거북이를 움직이지 않고 선을 긋는 함수 draw_line()을 정의하고 이것을 이용하여 다음과 같은 거미줄과 같은 모양을 그려보자. 거북이는 항상 중앙에 위치한다."
      ]
    },
    {
      "cell_type": "code",
      "metadata": {
        "id": "jZTM-fg4Sbww"
      },
      "source": [
        "[예시]\n",
        "def draw_line():\n",
        "  turtle.forward(100)\n",
        "  turtle.backward(100)"
      ],
      "execution_count": null,
      "outputs": []
    },
    {
      "cell_type": "code",
      "metadata": {
        "id": "lA-tdkPQbj1h"
      },
      "source": [
        "import turtle\n",
        "t = turtle.Turtle()\n",
        "t.shape(\"turtle\")\n",
        "\n",
        "def draw_line():\n",
        "  t.forward(100)\n",
        "  t.backwrad(100)\n",
        "  t.left(30)\n",
        "for i in range(12):\n",
        "  draw_line()"
      ],
      "execution_count": null,
      "outputs": []
    },
    {
      "cell_type": "markdown",
      "metadata": {
        "id": "xtldQEJ7Q1KG"
      },
      "source": [
        "(5) 다음과 같이 이름을 받아서 생일 축하 노래를 출력하는 함수 HappyBirthday()를 작성하고 테스트 하시오."
      ]
    },
    {
      "cell_type": "code",
      "metadata": {
        "id": "HYYnxbXiScR1"
      },
      "source": [
        "def Happy Birthday(name):\n",
        "  print(\"==================================\")\n",
        "  print(\"Happy Birthday to you!\")\n",
        "  print(\"Happy Birthday to you!\")\n",
        "  print(\"Happy Birthday, dear\" + name)\n",
        "  print(\"Happy Birthday to you!\")\n",
        "\n",
        "Happy Birthday(input(\"이름: \"))"
      ],
      "execution_count": null,
      "outputs": []
    },
    {
      "cell_type": "markdown",
      "metadata": {
        "id": "pBLZ9V7ZQ1Vh"
      },
      "source": [
        "(6) 사용자로부터 2개의 정수를 받아서 수학문제를 만들어서 화면에 출력하는 함수를 작성하고 테스트 하시오."
      ]
    },
    {
      "cell_type": "code",
      "metadata": {
        "id": "Bkj5-ZF-Sc6G"
      },
      "source": [
        "def sum, Math():\n",
        "  a = int(input(\"첫 번째 정수: \"))\n",
        "  b = int(input(\"두 번째 정수: \"))\n",
        "  print(\"정수 %d+%d의 합은?\" %(a,b))"
      ],
      "execution_count": null,
      "outputs": []
    },
    {
      "cell_type": "markdown",
      "metadata": {
        "id": "FBjcQAQfQ1ge"
      },
      "source": [
        "(7) 파이를 나타내는 PI=3.14를 전역 변수로 하여 원의 면적을 계산하는 함수 circleArea(radius)과 원의 둘레를 계산하는 함수 circleCircumference(radius)를 작성하고 테스트하라. "
      ]
    },
    {
      "cell_type": "code",
      "metadata": {
        "id": "1ODUSA_XSdTG"
      },
      "source": [
        "PI = 3.14\n",
        "\n",
        "def circleArea(radius):\n",
        "  return PI*(radius**2)\n",
        "\n",
        "def circleCircumference(radius):\n",
        "  return PI*2*radius\n",
        "\n",
        "print(\"반지름이 5인 원의 면적: \", circleArea(5))\n",
        "print(\"반지름이 5인 원의 둘레: \", circleCircumference(5))"
      ],
      "execution_count": null,
      "outputs": []
    },
    {
      "cell_type": "markdown",
      "metadata": {
        "id": "mgLWrwcoQ1sV"
      },
      "source": [
        "(8) 덧셈, 뺄셈, 곱셈, 나눗셈을 수행하는 함수를 각각 작성하고 테스트하라."
      ]
    },
    {
      "cell_type": "code",
      "metadata": {
        "id": "0-efkzvOSdvQ"
      },
      "source": [
        "def sum(a,b):\n",
        "  return a+b\n",
        "def min(a,b):\n",
        "  return a-b\n",
        "def mul(a,b):\n",
        "  return a*b\n",
        "def div(a,b):\n",
        "  returna/b\n",
        "\n",
        "a = int(input(\"첫 번째 정수: \"))\n",
        "b = int(input(\"두 번째 정수: \"))\n",
        "print(\"(\"+str(a), \"+\", str(b)+\") =\", sum(a,b))\n",
        "print(\"(\"+str(a), \"-\", str(b)+\") =\", min(a,b))\n",
        "print(\"(\"+str(a), \"*\", str(b)+\") =\", mul(a,b))\n",
        "print(\"(\"+str(a), \"/\", str(b)+\") =\", div(a,b))"
      ],
      "execution_count": null,
      "outputs": []
    }
  ]
}